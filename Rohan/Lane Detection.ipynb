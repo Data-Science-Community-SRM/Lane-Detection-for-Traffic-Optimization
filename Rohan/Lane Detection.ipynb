{
 "cells": [
  {
   "cell_type": "code",
   "execution_count": 1,
   "metadata": {},
   "outputs": [],
   "source": [
    "import cv2\n",
    "import numpy as np\n",
    "\n",
    "import matplotlib.pyplot as plt"
   ]
  },
  {
   "cell_type": "code",
   "execution_count": 4,
   "metadata": {},
   "outputs": [
    {
     "data": {
      "text/plain": [
       "-1"
      ]
     },
     "execution_count": 4,
     "metadata": {},
     "output_type": "execute_result"
    }
   ],
   "source": [
    "path = r'C:\\Users\\ROSHAN\\Documents\\GitHub\\Lane-Detection\\Images\\test_image.jpg'\n",
    "\n",
    "image = cv2.imread(path)\n",
    "\n",
    "cv2.imshow('result', image)\n",
    "cv2.waitKey(0)"
   ]
  },
  {
   "cell_type": "code",
   "execution_count": 3,
   "metadata": {},
   "outputs": [
    {
     "data": {
      "text/plain": [
       "-1"
      ]
     },
     "execution_count": 3,
     "metadata": {},
     "output_type": "execute_result"
    }
   ],
   "source": [
    "#GrayScaling\n",
    "\n",
    "lane_image = np.copy(image)\n",
    "\n",
    "gray = cv2.cvtColor(lane_image, cv2.COLOR_RGB2GRAY)\n",
    "cv2.imshow('result', gray)\n",
    "cv2.waitKey(0)"
   ]
  },
  {
   "cell_type": "code",
   "execution_count": 5,
   "metadata": {},
   "outputs": [
    {
     "data": {
      "text/plain": [
       "-1"
      ]
     },
     "execution_count": 5,
     "metadata": {},
     "output_type": "execute_result"
    }
   ],
   "source": [
    "#Reducing Image Noise & Filtering (Gaussian blur)\n",
    "\n",
    "blur = cv2.GaussianBlur(gray , (5,5), 0)\n",
    "cv2.imshow('result', blur)\n",
    "cv2.waitKey(0)"
   ]
  },
  {
   "cell_type": "code",
   "execution_count": 6,
   "metadata": {},
   "outputs": [
    {
     "data": {
      "text/plain": [
       "-1"
      ]
     },
     "execution_count": 6,
     "metadata": {},
     "output_type": "execute_result"
    }
   ],
   "source": [
    "#Canny edge detection itself applies gaussian filters\n",
    "\n",
    "canny = cv2.Canny(blur ,50 , 150)\n",
    "\n",
    "cv2.imshow('result', canny)\n",
    "cv2.waitKey(0)"
   ]
  },
  {
   "cell_type": "code",
   "execution_count": 8,
   "metadata": {},
   "outputs": [],
   "source": [
    "lane_image = np.copy(image)  #Ensure making copies when making arrays"
   ]
  },
  {
   "cell_type": "code",
   "execution_count": 9,
   "metadata": {},
   "outputs": [
    {
     "data": {
      "image/png": "[encoded data removed]",
      "text/plain": [
       "<Figure size 432x288 with 1 Axes>"
      ]
     },
     "metadata": {
      "needs_background": "light"
     },
     "output_type": "display_data"
    }
   ],
   "source": [
    "def canny(image):\n",
    "    \n",
    "    gray = cv2.cvtColor(image, cv2.COLOR_RGB2GRAY)\n",
    "    blur = cv2.GaussianBlur(gray , (5,5), 0)\n",
    "    canny = cv2.Canny(blur ,50 , 150)\n",
    "    \n",
    "    return canny\n",
    "\n",
    "plt.imshow(canny(lane_image))\n",
    "plt.show()"
   ]
  },
  {
   "cell_type": "code",
   "execution_count": 10,
   "metadata": {},
   "outputs": [],
   "source": [
    "canny1 = canny(lane_image)"
   ]
  },
  {
   "cell_type": "code",
   "execution_count": 11,
   "metadata": {},
   "outputs": [
    {
     "data": {
      "text/plain": [
       "array([[0, 0, 0, ..., 0, 0, 0],\n",
       "       [0, 0, 0, ..., 0, 0, 0],\n",
       "       [0, 0, 0, ..., 0, 0, 0],\n",
       "       ...,\n",
       "       [0, 0, 0, ..., 0, 0, 0],\n",
       "       [0, 0, 0, ..., 0, 0, 0],\n",
       "       [0, 0, 0, ..., 0, 0, 0]], dtype=uint8)"
      ]
     },
     "execution_count": 11,
     "metadata": {},
     "output_type": "execute_result"
    }
   ],
   "source": [
    "canny1"
   ]
  },
  {
   "cell_type": "code",
   "execution_count": 12,
   "metadata": {},
   "outputs": [
    {
     "data": {
      "text/plain": [
       "-1"
      ]
     },
     "execution_count": 12,
     "metadata": {},
     "output_type": "execute_result"
    }
   ],
   "source": [
    "def region_of_interest(image):\n",
    "    \n",
    "    height = image.shape[0]\n",
    "    \n",
    "    polygons = np.array([[(200, height),(1100 , height), (550 , 250)]])  #Creating a triangular mask\n",
    "    \n",
    "    mask = np.zeros_like(image)  #Black pixels\n",
    "    \n",
    "    cv2.fillPoly(mask , polygons , 255) #Fill mask with triangle dimensions as white(255)\n",
    "    \n",
    "    return mask\n",
    "\n",
    "cv2.imshow('result', region_of_interest(canny1))\n",
    "cv2.waitKey(0)"
   ]
  },
  {
   "cell_type": "code",
   "execution_count": 13,
   "metadata": {},
   "outputs": [
    {
     "data": {
      "text/plain": [
       "-1"
      ]
     },
     "execution_count": 13,
     "metadata": {},
     "output_type": "execute_result"
    }
   ],
   "source": [
    "def region_of_interest_masked(image):\n",
    "    \n",
    "    height = image.shape[0]\n",
    "    \n",
    "    polygons = np.array([[(200, height),(1100 , height), (550 , 250)]])  #Creating a triangular mask\n",
    "    \n",
    "    mask = np.zeros_like(image)  #Black pixels\n",
    "    \n",
    "    cv2.fillPoly(mask , polygons , 255) #Fill mask with triangle dimensions as white(255)\n",
    "    \n",
    "    mask = cv2.bitwise_and(image , mask)\n",
    "    \n",
    "    return mask\n",
    "\n",
    "cv2.imshow('result', region_of_interest_masked(canny1))\n",
    "cv2.waitKey(0)"
   ]
  },
  {
   "cell_type": "code",
   "execution_count": 14,
   "metadata": {},
   "outputs": [],
   "source": [
    "cropped_image = region_of_interest_masked(canny1)"
   ]
  },
  {
   "cell_type": "code",
   "execution_count": 15,
   "metadata": {},
   "outputs": [],
   "source": [
    "lines = cv2.HoughLinesP(cropped_image , 2 , np.pi/180 , 100 , np.array([]), minLineLength = 40 , maxLineGap = 5)\n",
    "\n",
    "#averaged_lines = average_slope_intercept()"
   ]
  },
  {
   "cell_type": "code",
   "execution_count": 16,
   "metadata": {},
   "outputs": [
    {
     "data": {
      "text/plain": [
       "-1"
      ]
     },
     "execution_count": 16,
     "metadata": {},
     "output_type": "execute_result"
    }
   ],
   "source": [
    "def display_lines(image, lines):\n",
    "    \n",
    "    line_image = np.zeros_like(image)\n",
    "    \n",
    "    if lines is not None:\n",
    "        \n",
    "        for line in lines:\n",
    "            \n",
    "            x1 , y1, x2, y2 = line.reshape(4)\n",
    "            cv2.line(line_image, (x1, y1) ,(x2,y2), (255,0,0), 10)\n",
    "               \n",
    "    return line_image\n",
    "\n",
    "line_image = display_lines(lane_image , lines)\n",
    "\n",
    "\n",
    "cv2.imshow('result', line_image)\n",
    "cv2.waitKey(0)"
   ]
  },
  {
   "cell_type": "code",
   "execution_count": 17,
   "metadata": {},
   "outputs": [],
   "source": [
    "def make_cordinates(image , line_parameters):\n",
    "    \n",
    "    slope , intercept = line_parameters    \n",
    "    \n",
    "    y1 = image.shape[0]\n",
    "    \n",
    "    y2  = int(y1*(3/5))\n",
    "    \n",
    "    x1 = int((y1 - intercept)/slope)\n",
    "    \n",
    "    x2 = int((y2 - intercept)/slope)\n",
    "    \n",
    "    return np.array([x1, y1 , x2 , y2])\n",
    "\n",
    "def average_slope_intercept(image , lines):\n",
    "    \n",
    "    left_fit = []\n",
    "    right_fit = []\n",
    "    \n",
    "    for line in lines:\n",
    "        \n",
    "        x1, y1 , x2 , y2 = line.reshape(4)\n",
    "        \n",
    "        parameters = np.polyfit((x1 , x2), (y1, y2), 1)\n",
    "        \n",
    "        slope = parameters[0]\n",
    "        \n",
    "        intercept = parameters[1]\n",
    "        \n",
    "        if slope < 0:\n",
    "            \n",
    "            left_fit.append((slope , intercept))\n",
    "        else:\n",
    "            \n",
    "            right_fit.append((slope , intercept))\n",
    "            \n",
    "    left_fit_average = np.average(left_fit , axis = 0)\n",
    "    right_fit_average = np.average(right_fit , axis = 0)\n",
    "        \n",
    "    left_line = make_cordinates(image , left_fit_average)\n",
    "        \n",
    "    right_line = make_cordinates(image , right_fit_average)\n",
    "    \n",
    "    return np.array([left_line , right_line])\n",
    "        \n",
    "        \n",
    "        \n",
    "    \n",
    "    \n",
    "averaged_lines = average_slope_intercept(lane_image , lines)"
   ]
  },
  {
   "cell_type": "code",
   "execution_count": 18,
   "metadata": {},
   "outputs": [
    {
     "data": {
      "text/plain": [
       "-1"
      ]
     },
     "execution_count": 18,
     "metadata": {},
     "output_type": "execute_result"
    }
   ],
   "source": [
    "def display_lines(image, lines):\n",
    "    \n",
    "    line_image = np.zeros_like(image)\n",
    "    \n",
    "    if lines is not None:\n",
    "        \n",
    "        for line in lines:\n",
    "            \n",
    "            x1 , y1, x2, y2 = line.reshape(4)\n",
    "            cv2.line(line_image, (x1, y1) ,(x2,y2), (255,0,0), 10)\n",
    "               \n",
    "    return line_image\n",
    "\n",
    "line_image = display_lines(lane_image , averaged_lines)\n",
    "\n",
    "combo_image = cv2.addWeighted(lane_image , 0.8, line_image , 1, 1)\n",
    "cv2.imshow('result', combo_image)\n",
    "cv2.waitKey(0)"
   ]
  },
  {
   "cell_type": "code",
   "execution_count": null,
   "metadata": {},
   "outputs": [],
   "source": [
    "combo_image = cv2.addWeighted(lane_image , 0.8, line_image , 1, 1)\n",
    "\n",
    "cv2.imshow('result', combo_image)\n",
    "cv2.waitKey(0)"
   ]
  },
  {
   "cell_type": "code",
   "execution_count": 28,
   "metadata": {},
   "outputs": [],
   "source": [
    "#VIDEO\n",
    "\n",
    "cap = cv2.VideoCapture(r'C:\\Users\\ROSHAN\\Lane Detection\\Videos\\test2.mp4')\n",
    "\n",
    "while(cap.isOpened()):\n",
    "    \n",
    "    _ , frame = cap.read()\n",
    "    \n",
    "    canny1 = canny(frame)\n",
    "    \n",
    "    cropped_image = region_of_interest_masked(canny1)\n",
    "    lines = cv2.HoughLinesP(cropped_image , 2 , np.pi/180 , 100 , np.array([]), minLineLength = 40 , maxLineGap = 5)\n",
    "    \n",
    "    averaged_lines = average_slope_intercept(lane_image , lines)\n",
    "    line_image = display_lines(lane_image , averaged_lines)\n",
    "    \n",
    "    combo_image = cv2.addWeighted(lane_image , 0.8, line_image , 1, 1)\n",
    "    \n",
    "    cv2.imshow('result', combo_image)\n",
    "    \n",
    "    if cv2.waitKey(10) & 0xFF== ord('q'):\n",
    "        \n",
    "        break\n",
    "\n",
    "cap.release()\n",
    "cv2.destroyAllWindows()"
   ]
  },
  {
   "cell_type": "code",
   "execution_count": null,
   "metadata": {},
   "outputs": [],
   "source": []
  }
 ],
 "metadata": {
  "kernelspec": {
   "display_name": "Python 3",
   "language": "python",
   "name": "python3"
  },
  "language_info": {
   "codemirror_mode": {
    "name": "ipython",
    "version": 3
   },
   "file_extension": ".py",
   "mimetype": "text/x-python",
   "name": "python",
   "nbconvert_exporter": "python",
   "pygments_lexer": "ipython3",
   "version": "3.7.4"
  }
 },
 "nbformat": 4,
 "nbformat_minor": 2
}
